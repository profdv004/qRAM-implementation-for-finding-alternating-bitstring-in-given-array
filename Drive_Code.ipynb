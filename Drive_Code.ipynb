{
 "cells": [
  {
   "cell_type": "code",
   "execution_count": 1,
   "id": "06da27ca-f39c-49c7-a4b3-4bd52f7aa846",
   "metadata": {},
   "outputs": [],
   "source": [
    "import numpy as np\n",
    "import math \n",
    "from qiskit import *\n",
    "from qiskit import QuantumRegister, ClassicalRegister, QuantumCircuit\n",
    "from qiskit import IBMQ, Aer, execute\n",
    "from qiskit.tools.visualization import plot_histogram\n",
    "from qiskit.circuit.library import WeightedAdder\n",
    "backend = BasicAer.get_backend('qasm_simulator')\n",
    "shots = 1024\n",
    "provider = IBMQ.load_account()"
   ]
  },
  {
   "cell_type": "code",
   "execution_count": 2,
   "id": "f480042c-7ba6-4492-838e-da1fc480fc63",
   "metadata": {},
   "outputs": [
    {
     "name": "stdout",
     "output_type": "stream",
     "text": [
      "Please enter input list\n"
     ]
    },
    {
     "name": "stdin",
     "output_type": "stream",
     "text": [
      " 2 5 7 10\n"
     ]
    },
    {
     "name": "stderr",
     "output_type": "stream",
     "text": [
     "  job = backend.run(experiments, **run_kwargs)\n"
     ]
    },
    {
     "data": {
      "text/plain": [
       "{'01': 3997, '11': 4003}"
      ]
     },
     "execution_count": 2,
     "metadata": {},
     "output_type": "execute_result"
    }
   ],
   "source": [
    "#Taking a list input which will be proccessed.\n",
    "print(\"Please enter input list\")\n",
    "init=list(map(int,input().split()))\n",
    "\n",
    "n=len(init)\n",
    "#Calculating the no. of qubits required for qRAM address\n",
    "adsize=math.ceil(math.log(n,2))\n",
    "\n",
    "maxi=max(init)\n",
    "#Calculating no. of qubits required for qRAM data\n",
    "datsize=math.floor(math.log(maxi,2))+1\n",
    "\n",
    "#Converting the input list to binary \n",
    "for i in range(n):\n",
    "    init[i]=format(init[i], 'b').zfill(datsize)\n",
    "    \n",
    "#Creating quantum circuit\n",
    "address = QuantumRegister(adsize)\n",
    "data1 = QuantumRegister(datsize)\n",
    "data2 = QuantumRegister(datsize)\n",
    "oracle1= QuantumRegister(1)\n",
    "cr = ClassicalRegister(adsize)\n",
    "qc = QuantumCircuit(address,data1,data2,oracle1,cr)\n",
    "\n",
    "#Initialising quantum circuit\n",
    "qc.x(oracle1[0])\n",
    "qc.h(oracle1[0])\n",
    "\n",
    "qc.h(address[:])\n",
    "\n",
    "#Creating oracle initial state\n",
    "qc.h(data2[0])\n",
    "for i in range(datsize-1):\n",
    "    qc.x(data2[i+1])\n",
    "    qc.cx(data2[i],data2[i+1])\n",
    "\n",
    "#Calculating no. of iterations needed for optimal solution to grover's algorithm with 2 solutions present in the given list    \n",
    "ite=round(np.pi/4*2**((adsize-1)/2)-0.5)\n",
    "\n",
    "#running the circuit for ite. times as this will give better result \n",
    "for x in range(ite):\n",
    "    \n",
    "    #Storing data in qRAM\n",
    "    for i in range(len(init)):\n",
    "        dum=format(i, 'b').zfill(adsize)\n",
    "        for j in range(len(dum)):\n",
    "            if(dum[j]=='0'):\n",
    "                qc.x(address[j])\n",
    "        for k in range(len(init[i])):\n",
    "            if(init[i][k]=='1'):\n",
    "                qc.mct(address[:],data1[k])\n",
    "        for j in range(len(dum)):\n",
    "            if(dum[j]=='0'):\n",
    "                qc.x(address[j])\n",
    "\n",
    "\n",
    "    #Oracle    \n",
    "    for i in range(datsize):\n",
    "        qc.cx(data2[i],data1[i])\n",
    "    \n",
    "    #Phase flip for desired solution\n",
    "    qc.mct(data1[:],oracle1[0])\n",
    "\n",
    "    #Uncomputation of oracle\n",
    "    for i in range(datsize):\n",
    "        qc.cx(data2[i],data1[i])\n",
    "\n",
    "        \n",
    "    #Uncomputation of qRAM\n",
    "    for i in range(len(init)):\n",
    "        dum=format(i, 'b').zfill(adsize)\n",
    "        for j in range(len(dum)):\n",
    "            if(dum[j]=='0'):\n",
    "                qc.x(address[j])\n",
    "        for k in range(len(init[i])):\n",
    "            if(init[i][k]=='1'):\n",
    "                qc.mct(address[:],data1[k])\n",
    "        for j in range(len(dum)):\n",
    "            if(dum[j]=='0'):\n",
    "                qc.x(address[j])\n",
    "\n",
    "    #Diffusion of our solution\n",
    "    qc.h(address[:])\n",
    "    qc.x(address[:])\n",
    "    qc.h(address[adsize-1])\n",
    "    qc.mct(address[:adsize-1],address[adsize-1])\n",
    "    qc.h(address[adsize-1])\n",
    "    qc.x(address[:])\n",
    "    qc.h(address[:])\n",
    "\n",
    "#Ending of oracle\n",
    "qc.h(oracle1[0])\n",
    "qc.x(oracle1[0])\n",
    "\n",
    "#Measuring the solution\n",
    "qc.measure(address[:],cr[:])\n",
    "\n",
    "#Reversing bits as per qiskit convention \n",
    "qc = qc.reverse_bits()\n",
    "\n",
    "#measuring our solution using qasm_simulator\n",
    "backend = Aer.get_backend('qasm_simulator')\n",
    "job = execute(qc, backend=backend, shots=8000, seed_simulator=12345, backend_options={\"fusion_enable\":True})\n",
    "result = job.result()\n",
    "count =result.get_counts()\n",
    "\n",
    "#printing result in ascending order \n",
    "{k: v for k, v in sorted(count.items(), key=lambda item: item[1])}\n"
   ]
  },
  {
   "cell_type": "code",
   "execution_count": null,
   "id": "5849e6d6-1b87-4a4f-aac7-9c38ae8ec049",
   "metadata": {},
   "outputs": [],
   "source": []
  }
 ],
 "metadata": {
  "kernelspec": {
   "display_name": "Qiskit v0.29.0",
   "language": "python",
   "name": "python3"
  },
  "language_info": {
   "codemirror_mode": {
    "name": "ipython",
    "version": 3
   },
   "file_extension": ".py",
   "mimetype": "text/x-python",
   "name": "python",
   "nbconvert_exporter": "python",
   "pygments_lexer": "ipython3",
   "version": "3.8.10"
  },
  "widgets": {
   "application/vnd.jupyter.widget-state+json": {
    "state": {},
    "version_major": 2,
    "version_minor": 0
   }
  }
 },
 "nbformat": 4,
 "nbformat_minor": 5
}
